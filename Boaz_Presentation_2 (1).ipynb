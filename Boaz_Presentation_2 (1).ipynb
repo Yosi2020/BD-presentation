{
  "nbformat": 4,
  "nbformat_minor": 0,
  "metadata": {
    "colab": {
      "name": "Boaz Presentation 2.ipynb",
      "provenance": [],
      "collapsed_sections": []
    },
    "kernelspec": {
      "name": "python3",
      "display_name": "Python 3"
    },
    "language_info": {
      "name": "python"
    }
  },
  "cells": [
    {
      "cell_type": "markdown",
      "source": [
        "# **Welcome to our second section of presentation** \n",
        "\n",
        "# **Agendas**\n",
        "\n",
        "\n",
        "\n",
        "*   Using of Keras preprocessing how to read input directory\n",
        "*   Data Augmentation.\n",
        "*   KFolding\n",
        "*   Training \n",
        "*   And Finally we will review all the methods.\n",
        "\n"
      ],
      "metadata": {
        "id": "IYQYMHuLUbLy"
      }
    },
    {
      "cell_type": "code",
      "source": [
        "from google.colab import drive\n",
        "drive.mount('/content/drive')"
      ],
      "metadata": {
        "id": "IycP3KblZlUX",
        "colab": {
          "base_uri": "https://localhost:8080/"
        },
        "outputId": "8e663756-9e7d-49d0-9ff3-803b93c2092f"
      },
      "execution_count": null,
      "outputs": [
        {
          "output_type": "stream",
          "name": "stdout",
          "text": [
            "Mounted at /content/drive\n"
          ]
        }
      ]
    },
    {
      "cell_type": "code",
      "source": [
        "!pip install tensorflow==2.3.0\n",
        "!pip install keras==2.4.0"
      ],
      "metadata": {
        "colab": {
          "base_uri": "https://localhost:8080/",
          "height": 1000
        },
        "id": "QcoQ3vzhmpR5",
        "outputId": "1a5b5368-cbdd-4fde-8b07-cf49b947bc05"
      },
      "execution_count": null,
      "outputs": [
        {
          "output_type": "stream",
          "name": "stdout",
          "text": [
            "Collecting tensorflow==2.3.0\n",
            "  Downloading tensorflow-2.3.0-cp37-cp37m-manylinux2010_x86_64.whl (320.4 MB)\n",
            "\u001b[K     |████████████████████████████████| 320.4 MB 57 kB/s \n",
            "\u001b[?25hCollecting numpy<1.19.0,>=1.16.0\n",
            "  Downloading numpy-1.18.5-cp37-cp37m-manylinux1_x86_64.whl (20.1 MB)\n",
            "\u001b[K     |████████████████████████████████| 20.1 MB 1.0 MB/s \n",
            "\u001b[?25hRequirement already satisfied: grpcio>=1.8.6 in /usr/local/lib/python3.7/dist-packages (from tensorflow==2.3.0) (1.44.0)\n",
            "Requirement already satisfied: wheel>=0.26 in /usr/local/lib/python3.7/dist-packages (from tensorflow==2.3.0) (0.37.1)\n",
            "Collecting tensorflow-estimator<2.4.0,>=2.3.0\n",
            "  Downloading tensorflow_estimator-2.3.0-py2.py3-none-any.whl (459 kB)\n",
            "\u001b[K     |████████████████████████████████| 459 kB 84.0 MB/s \n",
            "\u001b[?25hRequirement already satisfied: opt-einsum>=2.3.2 in /usr/local/lib/python3.7/dist-packages (from tensorflow==2.3.0) (3.3.0)\n",
            "Requirement already satisfied: termcolor>=1.1.0 in /usr/local/lib/python3.7/dist-packages (from tensorflow==2.3.0) (1.1.0)\n",
            "Requirement already satisfied: wrapt>=1.11.1 in /usr/local/lib/python3.7/dist-packages (from tensorflow==2.3.0) (1.14.0)\n",
            "Requirement already satisfied: astunparse==1.6.3 in /usr/local/lib/python3.7/dist-packages (from tensorflow==2.3.0) (1.6.3)\n",
            "Collecting h5py<2.11.0,>=2.10.0\n",
            "  Downloading h5py-2.10.0-cp37-cp37m-manylinux1_x86_64.whl (2.9 MB)\n",
            "\u001b[K     |████████████████████████████████| 2.9 MB 56.1 MB/s \n",
            "\u001b[?25hRequirement already satisfied: six>=1.12.0 in /usr/local/lib/python3.7/dist-packages (from tensorflow==2.3.0) (1.15.0)\n",
            "Requirement already satisfied: absl-py>=0.7.0 in /usr/local/lib/python3.7/dist-packages (from tensorflow==2.3.0) (1.0.0)\n",
            "Requirement already satisfied: protobuf>=3.9.2 in /usr/local/lib/python3.7/dist-packages (from tensorflow==2.3.0) (3.17.3)\n",
            "Requirement already satisfied: tensorboard<3,>=2.3.0 in /usr/local/lib/python3.7/dist-packages (from tensorflow==2.3.0) (2.8.0)\n",
            "Collecting gast==0.3.3\n",
            "  Downloading gast-0.3.3-py2.py3-none-any.whl (9.7 kB)\n",
            "Requirement already satisfied: scipy==1.4.1 in /usr/local/lib/python3.7/dist-packages (from tensorflow==2.3.0) (1.4.1)\n",
            "Requirement already satisfied: keras-preprocessing<1.2,>=1.1.1 in /usr/local/lib/python3.7/dist-packages (from tensorflow==2.3.0) (1.1.2)\n",
            "Requirement already satisfied: google-pasta>=0.1.8 in /usr/local/lib/python3.7/dist-packages (from tensorflow==2.3.0) (0.2.0)\n",
            "Requirement already satisfied: tensorboard-data-server<0.7.0,>=0.6.0 in /usr/local/lib/python3.7/dist-packages (from tensorboard<3,>=2.3.0->tensorflow==2.3.0) (0.6.1)\n",
            "Requirement already satisfied: google-auth<3,>=1.6.3 in /usr/local/lib/python3.7/dist-packages (from tensorboard<3,>=2.3.0->tensorflow==2.3.0) (1.35.0)\n",
            "Requirement already satisfied: google-auth-oauthlib<0.5,>=0.4.1 in /usr/local/lib/python3.7/dist-packages (from tensorboard<3,>=2.3.0->tensorflow==2.3.0) (0.4.6)\n",
            "Requirement already satisfied: werkzeug>=0.11.15 in /usr/local/lib/python3.7/dist-packages (from tensorboard<3,>=2.3.0->tensorflow==2.3.0) (1.0.1)\n",
            "Requirement already satisfied: markdown>=2.6.8 in /usr/local/lib/python3.7/dist-packages (from tensorboard<3,>=2.3.0->tensorflow==2.3.0) (3.3.6)\n",
            "Requirement already satisfied: setuptools>=41.0.0 in /usr/local/lib/python3.7/dist-packages (from tensorboard<3,>=2.3.0->tensorflow==2.3.0) (57.4.0)\n",
            "Requirement already satisfied: requests<3,>=2.21.0 in /usr/local/lib/python3.7/dist-packages (from tensorboard<3,>=2.3.0->tensorflow==2.3.0) (2.23.0)\n",
            "Requirement already satisfied: tensorboard-plugin-wit>=1.6.0 in /usr/local/lib/python3.7/dist-packages (from tensorboard<3,>=2.3.0->tensorflow==2.3.0) (1.8.1)\n",
            "Requirement already satisfied: pyasn1-modules>=0.2.1 in /usr/local/lib/python3.7/dist-packages (from google-auth<3,>=1.6.3->tensorboard<3,>=2.3.0->tensorflow==2.3.0) (0.2.8)\n",
            "Requirement already satisfied: cachetools<5.0,>=2.0.0 in /usr/local/lib/python3.7/dist-packages (from google-auth<3,>=1.6.3->tensorboard<3,>=2.3.0->tensorflow==2.3.0) (4.2.4)\n",
            "Requirement already satisfied: rsa<5,>=3.1.4 in /usr/local/lib/python3.7/dist-packages (from google-auth<3,>=1.6.3->tensorboard<3,>=2.3.0->tensorflow==2.3.0) (4.8)\n",
            "Requirement already satisfied: requests-oauthlib>=0.7.0 in /usr/local/lib/python3.7/dist-packages (from google-auth-oauthlib<0.5,>=0.4.1->tensorboard<3,>=2.3.0->tensorflow==2.3.0) (1.3.1)\n",
            "Requirement already satisfied: importlib-metadata>=4.4 in /usr/local/lib/python3.7/dist-packages (from markdown>=2.6.8->tensorboard<3,>=2.3.0->tensorflow==2.3.0) (4.11.3)\n",
            "Requirement already satisfied: zipp>=0.5 in /usr/local/lib/python3.7/dist-packages (from importlib-metadata>=4.4->markdown>=2.6.8->tensorboard<3,>=2.3.0->tensorflow==2.3.0) (3.7.0)\n",
            "Requirement already satisfied: typing-extensions>=3.6.4 in /usr/local/lib/python3.7/dist-packages (from importlib-metadata>=4.4->markdown>=2.6.8->tensorboard<3,>=2.3.0->tensorflow==2.3.0) (3.10.0.2)\n",
            "Requirement already satisfied: pyasn1<0.5.0,>=0.4.6 in /usr/local/lib/python3.7/dist-packages (from pyasn1-modules>=0.2.1->google-auth<3,>=1.6.3->tensorboard<3,>=2.3.0->tensorflow==2.3.0) (0.4.8)\n",
            "Requirement already satisfied: urllib3!=1.25.0,!=1.25.1,<1.26,>=1.21.1 in /usr/local/lib/python3.7/dist-packages (from requests<3,>=2.21.0->tensorboard<3,>=2.3.0->tensorflow==2.3.0) (1.24.3)\n",
            "Requirement already satisfied: certifi>=2017.4.17 in /usr/local/lib/python3.7/dist-packages (from requests<3,>=2.21.0->tensorboard<3,>=2.3.0->tensorflow==2.3.0) (2021.10.8)\n",
            "Requirement already satisfied: chardet<4,>=3.0.2 in /usr/local/lib/python3.7/dist-packages (from requests<3,>=2.21.0->tensorboard<3,>=2.3.0->tensorflow==2.3.0) (3.0.4)\n",
            "Requirement already satisfied: idna<3,>=2.5 in /usr/local/lib/python3.7/dist-packages (from requests<3,>=2.21.0->tensorboard<3,>=2.3.0->tensorflow==2.3.0) (2.10)\n",
            "Requirement already satisfied: oauthlib>=3.0.0 in /usr/local/lib/python3.7/dist-packages (from requests-oauthlib>=0.7.0->google-auth-oauthlib<0.5,>=0.4.1->tensorboard<3,>=2.3.0->tensorflow==2.3.0) (3.2.0)\n",
            "Installing collected packages: numpy, tensorflow-estimator, h5py, gast, tensorflow\n",
            "  Attempting uninstall: numpy\n",
            "    Found existing installation: numpy 1.21.5\n",
            "    Uninstalling numpy-1.21.5:\n",
            "      Successfully uninstalled numpy-1.21.5\n",
            "  Attempting uninstall: tensorflow-estimator\n",
            "    Found existing installation: tensorflow-estimator 2.8.0\n",
            "    Uninstalling tensorflow-estimator-2.8.0:\n",
            "      Successfully uninstalled tensorflow-estimator-2.8.0\n",
            "  Attempting uninstall: h5py\n",
            "    Found existing installation: h5py 3.1.0\n",
            "    Uninstalling h5py-3.1.0:\n",
            "      Successfully uninstalled h5py-3.1.0\n",
            "  Attempting uninstall: gast\n",
            "    Found existing installation: gast 0.5.3\n",
            "    Uninstalling gast-0.5.3:\n",
            "      Successfully uninstalled gast-0.5.3\n",
            "  Attempting uninstall: tensorflow\n",
            "    Found existing installation: tensorflow 2.8.0\n",
            "    Uninstalling tensorflow-2.8.0:\n",
            "      Successfully uninstalled tensorflow-2.8.0\n",
            "\u001b[31mERROR: pip's dependency resolver does not currently take into account all the packages that are installed. This behaviour is the source of the following dependency conflicts.\n",
            "tables 3.7.0 requires numpy>=1.19.0, but you have numpy 1.18.5 which is incompatible.\n",
            "jaxlib 0.3.2+cuda11.cudnn805 requires numpy>=1.19, but you have numpy 1.18.5 which is incompatible.\n",
            "jax 0.3.4 requires numpy>=1.19, but you have numpy 1.18.5 which is incompatible.\n",
            "datascience 0.10.6 requires folium==0.2.1, but you have folium 0.8.3 which is incompatible.\n",
            "albumentations 0.1.12 requires imgaug<0.2.7,>=0.2.5, but you have imgaug 0.2.9 which is incompatible.\u001b[0m\n",
            "Successfully installed gast-0.3.3 h5py-2.10.0 numpy-1.18.5 tensorflow-2.3.0 tensorflow-estimator-2.3.0\n"
          ]
        },
        {
          "output_type": "display_data",
          "data": {
            "application/vnd.colab-display-data+json": {
              "pip_warning": {
                "packages": [
                  "numpy"
                ]
              }
            }
          },
          "metadata": {}
        },
        {
          "output_type": "stream",
          "name": "stdout",
          "text": [
            "Collecting keras==2.4.0\n",
            "  Downloading Keras-2.4.0-py2.py3-none-any.whl (170 kB)\n",
            "\u001b[?25l\r\u001b[K     |██                              | 10 kB 25.6 MB/s eta 0:00:01\r\u001b[K     |███▉                            | 20 kB 34.0 MB/s eta 0:00:01\r\u001b[K     |█████▊                          | 30 kB 22.5 MB/s eta 0:00:01\r\u001b[K     |███████▊                        | 40 kB 12.8 MB/s eta 0:00:01\r\u001b[K     |█████████▋                      | 51 kB 12.3 MB/s eta 0:00:01\r\u001b[K     |███████████▌                    | 61 kB 14.2 MB/s eta 0:00:01\r\u001b[K     |█████████████▌                  | 71 kB 12.9 MB/s eta 0:00:01\r\u001b[K     |███████████████▍                | 81 kB 13.9 MB/s eta 0:00:01\r\u001b[K     |█████████████████▎              | 92 kB 15.4 MB/s eta 0:00:01\r\u001b[K     |███████████████████▎            | 102 kB 13.1 MB/s eta 0:00:01\r\u001b[K     |█████████████████████▏          | 112 kB 13.1 MB/s eta 0:00:01\r\u001b[K     |███████████████████████         | 122 kB 13.1 MB/s eta 0:00:01\r\u001b[K     |█████████████████████████       | 133 kB 13.1 MB/s eta 0:00:01\r\u001b[K     |███████████████████████████     | 143 kB 13.1 MB/s eta 0:00:01\r\u001b[K     |████████████████████████████▉   | 153 kB 13.1 MB/s eta 0:00:01\r\u001b[K     |██████████████████████████████▉ | 163 kB 13.1 MB/s eta 0:00:01\r\u001b[K     |████████████████████████████████| 170 kB 13.1 MB/s \n",
            "\u001b[?25hRequirement already satisfied: scipy>=0.14 in /usr/local/lib/python3.7/dist-packages (from keras==2.4.0) (1.4.1)\n",
            "Requirement already satisfied: h5py in /usr/local/lib/python3.7/dist-packages (from keras==2.4.0) (2.10.0)\n",
            "Requirement already satisfied: numpy>=1.9.1 in /usr/local/lib/python3.7/dist-packages (from keras==2.4.0) (1.18.5)\n",
            "Requirement already satisfied: pyyaml in /usr/local/lib/python3.7/dist-packages (from keras==2.4.0) (3.13)\n",
            "Requirement already satisfied: tensorflow>=2.2.0 in /usr/local/lib/python3.7/dist-packages (from keras==2.4.0) (2.3.0)\n",
            "Requirement already satisfied: keras-preprocessing<1.2,>=1.1.1 in /usr/local/lib/python3.7/dist-packages (from tensorflow>=2.2.0->keras==2.4.0) (1.1.2)\n",
            "Requirement already satisfied: tensorboard<3,>=2.3.0 in /usr/local/lib/python3.7/dist-packages (from tensorflow>=2.2.0->keras==2.4.0) (2.8.0)\n",
            "Requirement already satisfied: six>=1.12.0 in /usr/local/lib/python3.7/dist-packages (from tensorflow>=2.2.0->keras==2.4.0) (1.15.0)\n",
            "Requirement already satisfied: absl-py>=0.7.0 in /usr/local/lib/python3.7/dist-packages (from tensorflow>=2.2.0->keras==2.4.0) (1.0.0)\n",
            "Requirement already satisfied: wrapt>=1.11.1 in /usr/local/lib/python3.7/dist-packages (from tensorflow>=2.2.0->keras==2.4.0) (1.14.0)\n",
            "Requirement already satisfied: google-pasta>=0.1.8 in /usr/local/lib/python3.7/dist-packages (from tensorflow>=2.2.0->keras==2.4.0) (0.2.0)\n",
            "Requirement already satisfied: tensorflow-estimator<2.4.0,>=2.3.0 in /usr/local/lib/python3.7/dist-packages (from tensorflow>=2.2.0->keras==2.4.0) (2.3.0)\n",
            "Requirement already satisfied: wheel>=0.26 in /usr/local/lib/python3.7/dist-packages (from tensorflow>=2.2.0->keras==2.4.0) (0.37.1)\n",
            "Requirement already satisfied: grpcio>=1.8.6 in /usr/local/lib/python3.7/dist-packages (from tensorflow>=2.2.0->keras==2.4.0) (1.44.0)\n",
            "Requirement already satisfied: opt-einsum>=2.3.2 in /usr/local/lib/python3.7/dist-packages (from tensorflow>=2.2.0->keras==2.4.0) (3.3.0)\n",
            "Requirement already satisfied: termcolor>=1.1.0 in /usr/local/lib/python3.7/dist-packages (from tensorflow>=2.2.0->keras==2.4.0) (1.1.0)\n",
            "Requirement already satisfied: gast==0.3.3 in /usr/local/lib/python3.7/dist-packages (from tensorflow>=2.2.0->keras==2.4.0) (0.3.3)\n",
            "Requirement already satisfied: astunparse==1.6.3 in /usr/local/lib/python3.7/dist-packages (from tensorflow>=2.2.0->keras==2.4.0) (1.6.3)\n",
            "Requirement already satisfied: protobuf>=3.9.2 in /usr/local/lib/python3.7/dist-packages (from tensorflow>=2.2.0->keras==2.4.0) (3.17.3)\n",
            "Requirement already satisfied: tensorboard-data-server<0.7.0,>=0.6.0 in /usr/local/lib/python3.7/dist-packages (from tensorboard<3,>=2.3.0->tensorflow>=2.2.0->keras==2.4.0) (0.6.1)\n",
            "Requirement already satisfied: markdown>=2.6.8 in /usr/local/lib/python3.7/dist-packages (from tensorboard<3,>=2.3.0->tensorflow>=2.2.0->keras==2.4.0) (3.3.6)\n",
            "Requirement already satisfied: google-auth<3,>=1.6.3 in /usr/local/lib/python3.7/dist-packages (from tensorboard<3,>=2.3.0->tensorflow>=2.2.0->keras==2.4.0) (1.35.0)\n",
            "Requirement already satisfied: tensorboard-plugin-wit>=1.6.0 in /usr/local/lib/python3.7/dist-packages (from tensorboard<3,>=2.3.0->tensorflow>=2.2.0->keras==2.4.0) (1.8.1)\n",
            "Requirement already satisfied: google-auth-oauthlib<0.5,>=0.4.1 in /usr/local/lib/python3.7/dist-packages (from tensorboard<3,>=2.3.0->tensorflow>=2.2.0->keras==2.4.0) (0.4.6)\n",
            "Requirement already satisfied: requests<3,>=2.21.0 in /usr/local/lib/python3.7/dist-packages (from tensorboard<3,>=2.3.0->tensorflow>=2.2.0->keras==2.4.0) (2.23.0)\n",
            "Requirement already satisfied: setuptools>=41.0.0 in /usr/local/lib/python3.7/dist-packages (from tensorboard<3,>=2.3.0->tensorflow>=2.2.0->keras==2.4.0) (57.4.0)\n",
            "Requirement already satisfied: werkzeug>=0.11.15 in /usr/local/lib/python3.7/dist-packages (from tensorboard<3,>=2.3.0->tensorflow>=2.2.0->keras==2.4.0) (1.0.1)\n",
            "Requirement already satisfied: pyasn1-modules>=0.2.1 in /usr/local/lib/python3.7/dist-packages (from google-auth<3,>=1.6.3->tensorboard<3,>=2.3.0->tensorflow>=2.2.0->keras==2.4.0) (0.2.8)\n",
            "Requirement already satisfied: cachetools<5.0,>=2.0.0 in /usr/local/lib/python3.7/dist-packages (from google-auth<3,>=1.6.3->tensorboard<3,>=2.3.0->tensorflow>=2.2.0->keras==2.4.0) (4.2.4)\n",
            "Requirement already satisfied: rsa<5,>=3.1.4 in /usr/local/lib/python3.7/dist-packages (from google-auth<3,>=1.6.3->tensorboard<3,>=2.3.0->tensorflow>=2.2.0->keras==2.4.0) (4.8)\n",
            "Requirement already satisfied: requests-oauthlib>=0.7.0 in /usr/local/lib/python3.7/dist-packages (from google-auth-oauthlib<0.5,>=0.4.1->tensorboard<3,>=2.3.0->tensorflow>=2.2.0->keras==2.4.0) (1.3.1)\n",
            "Requirement already satisfied: importlib-metadata>=4.4 in /usr/local/lib/python3.7/dist-packages (from markdown>=2.6.8->tensorboard<3,>=2.3.0->tensorflow>=2.2.0->keras==2.4.0) (4.11.3)\n",
            "Requirement already satisfied: zipp>=0.5 in /usr/local/lib/python3.7/dist-packages (from importlib-metadata>=4.4->markdown>=2.6.8->tensorboard<3,>=2.3.0->tensorflow>=2.2.0->keras==2.4.0) (3.7.0)\n",
            "Requirement already satisfied: typing-extensions>=3.6.4 in /usr/local/lib/python3.7/dist-packages (from importlib-metadata>=4.4->markdown>=2.6.8->tensorboard<3,>=2.3.0->tensorflow>=2.2.0->keras==2.4.0) (3.10.0.2)\n",
            "Requirement already satisfied: pyasn1<0.5.0,>=0.4.6 in /usr/local/lib/python3.7/dist-packages (from pyasn1-modules>=0.2.1->google-auth<3,>=1.6.3->tensorboard<3,>=2.3.0->tensorflow>=2.2.0->keras==2.4.0) (0.4.8)\n",
            "Requirement already satisfied: idna<3,>=2.5 in /usr/local/lib/python3.7/dist-packages (from requests<3,>=2.21.0->tensorboard<3,>=2.3.0->tensorflow>=2.2.0->keras==2.4.0) (2.10)\n",
            "Requirement already satisfied: certifi>=2017.4.17 in /usr/local/lib/python3.7/dist-packages (from requests<3,>=2.21.0->tensorboard<3,>=2.3.0->tensorflow>=2.2.0->keras==2.4.0) (2021.10.8)\n",
            "Requirement already satisfied: chardet<4,>=3.0.2 in /usr/local/lib/python3.7/dist-packages (from requests<3,>=2.21.0->tensorboard<3,>=2.3.0->tensorflow>=2.2.0->keras==2.4.0) (3.0.4)\n",
            "Requirement already satisfied: urllib3!=1.25.0,!=1.25.1,<1.26,>=1.21.1 in /usr/local/lib/python3.7/dist-packages (from requests<3,>=2.21.0->tensorboard<3,>=2.3.0->tensorflow>=2.2.0->keras==2.4.0) (1.24.3)\n",
            "Requirement already satisfied: oauthlib>=3.0.0 in /usr/local/lib/python3.7/dist-packages (from requests-oauthlib>=0.7.0->google-auth-oauthlib<0.5,>=0.4.1->tensorboard<3,>=2.3.0->tensorflow>=2.2.0->keras==2.4.0) (3.2.0)\n",
            "Installing collected packages: keras\n",
            "  Attempting uninstall: keras\n",
            "    Found existing installation: keras 2.8.0\n",
            "    Uninstalling keras-2.8.0:\n",
            "      Successfully uninstalled keras-2.8.0\n",
            "Successfully installed keras-2.4.0\n"
          ]
        }
      ]
    },
    {
      "cell_type": "code",
      "source": [
        "import numpy as np\n",
        "import matplotlib.pyplot as plt # used to plot fig\n",
        "import seaborn as sns # used to plot fig as\n",
        "from mlxtend.plotting import plot_confusion_matrix  # used to draw confusion matrix\n",
        "import os  # This is used to read files to indict floders in the operating system\n",
        "import cv2 # cv2 is used in opencv and deeplearning foe images transform, flip, change color and so on..\n",
        "\n",
        "from sklearn.model_selection import train_test_split # this is used in Machine learning so i used it to split the train and test file 80/20 respectively\n",
        "from tensorflow.keras.utils import to_categorical #Converts a class vector (integers) to binary class matrix. \n",
        "from sklearn.preprocessing import LabelBinarizer  #Fit label binarizer and transform multi-class labels to binary labels\n",
        "from keras.preprocessing.image import ImageDataGenerator\n",
        "from keras.layers import Dense, Conv2D, MaxPooling2D, AveragePooling2D, Input, Dropout, Flatten, BatchNormalization\n",
        "from keras.models import Sequential, Model\n",
        "from keras.callbacks import ModelCheckpoint, ReduceLROnPlateau, EarlyStopping\n",
        "from tensorflow.keras.optimizers import Adam, SGD\n",
        "from sklearn.metrics import accuracy_score, confusion_matrix\n",
        "import tensorflow as tf\n",
        "from tensorflow.keras.applications.mobilenet_v2 import preprocess_input\n",
        "from tensorflow.keras.preprocessing.image import img_to_array"
      ],
      "metadata": {
        "id": "qL_cFtV2ZsAU",
        "colab": {
          "base_uri": "https://localhost:8080/"
        },
        "outputId": "0bf98a2e-e15d-429b-b1d1-90e72439dc91"
      },
      "execution_count": null,
      "outputs": [
        {
          "output_type": "stream",
          "name": "stderr",
          "text": [
            "Using TensorFlow backend.\n"
          ]
        }
      ]
    },
    {
      "cell_type": "markdown",
      "source": [
        "Simple way for reading and preparing dataset in simple way"
      ],
      "metadata": {
        "id": "dNLvTLBWmUC4"
      }
    },
    {
      "cell_type": "code",
      "source": [
        "Data = np.load(\"/content/drive/MyDrive/upload file/Data_.npy\")\n",
        "Labels = np.load(\"/content/drive/MyDrive/upload file/Labels_.npy\")"
      ],
      "metadata": {
        "id": "GiV3yTeAZsC-"
      },
      "execution_count": null,
      "outputs": []
    },
    {
      "cell_type": "code",
      "source": [
        "Data = Data/255.0"
      ],
      "metadata": {
        "id": "cSTIv7SuZsFx"
      },
      "execution_count": null,
      "outputs": []
    },
    {
      "cell_type": "code",
      "source": [
        "labelb = LabelBinarizer()\n",
        "Lables = labelb.fit_transform(Labels)\n",
        "Labels = to_categorical(Labels) "
      ],
      "metadata": {
        "id": "0_NTU8MQZsIt"
      },
      "execution_count": null,
      "outputs": []
    },
    {
      "cell_type": "code",
      "source": [
        "train_datagen = ImageDataGenerator(rotation_range = 20,\n",
        "                                   width_shift_range = 0.1,\n",
        "                                   height_shift_range = 0.05,\n",
        "                                   shear_range = 0.2,\n",
        "                                   zoom_range = 0.15,\n",
        "                                   horizontal_flip = True,\n",
        "                                   vertical_flip = False,\n",
        "                                   fill_mode = \"nearest\")"
      ],
      "metadata": {
        "id": "gzgAwKsQZsLZ"
      },
      "execution_count": null,
      "outputs": []
    },
    {
      "cell_type": "code",
      "source": [
        "from sklearn import metrics\n",
        "from sklearn.model_selection import KFold\n",
        "from tensorflow.keras.models import Sequential\n",
        "from tensorflow.keras.layers import Dense, Activation\n",
        "from tensorflow.keras.applications.vgg16 import VGG16\n",
        "from tensorflow.keras.applications import MobileNetV2\n",
        "\n",
        "kf = KFold(4, shuffle= True, random_state = 42)\n",
        "\n",
        "conf = []\n",
        "oos_y = []\n",
        "oos_pred = []\n",
        "\n",
        "fold = 0\n",
        "for train, test in kf.split(Data):\n",
        "    fold+=1\n",
        "    print(f\"Fold #{fold}\")\n",
        "        \n",
        "    x_train = Data[train]\n",
        "    y_train = Labels[train]\n",
        "    x_test = Data[test]\n",
        "    y_test = Labels[test]\n",
        "    \n",
        "    baseModel = MobileNetV2(weights=\"imagenet\", include_top=False, input_shape=(224, 224, 3))\n",
        "    # construct the head of the model that will be placed on top of the\n",
        "    # the base model\n",
        "    headModel = baseModel.output\n",
        "    headModel = AveragePooling2D(pool_size=(7, 7))(headModel)\n",
        "    headModel = Flatten(name=\"flatten\")(headModel)\n",
        "    headModel = Dense(128, activation=\"relu\")(headModel)\n",
        "    headModel = Dropout(0.5)(headModel)\n",
        "    headModel = Dense(5, activation=\"softmax\")(headModel)\n",
        "    # place the head FC model on top of the base model (this will become\n",
        "    # the actual model we will train)\n",
        "    model = Model(inputs=baseModel.input, outputs=headModel)\n",
        "    # loop over all layers in the base model and freeze them so they will\n",
        "    # *not* be updated during the first training process\n",
        "    for layer in baseModel.layers:\n",
        "      layer.trainable = False\n",
        "    INIT_LR = 1e-4\n",
        "    EPOCHS = 15\n",
        "    BS = 64\n",
        "    print(\"[INFO] compiling model...\")\n",
        "    opt = Adam(learning_rate=INIT_LR, decay=INIT_LR / EPOCHS)\n",
        "    model.compile(loss=\"categorical_crossentropy\", optimizer=opt,\n",
        "      metrics=[\"accuracy\"])\n",
        "    \n",
        "    his = model.fit_generator( train_datagen.flow(x_train, y_train, batch_size= BS),\n",
        "                              steps_per_epoch=len(x_train) // BS,\n",
        "                              validation_data=(x_test, y_test),\n",
        "                              validation_steps=len(x_test) // BS,\n",
        "                              epochs=EPOCHS)\n",
        "    \n",
        "    pred = model.predict(x_test)\n",
        "\n",
        "    oos_y.append(y_test)\n",
        "    pred = np.argmax(pred,axis=1)\n",
        "    oos_pred.append(pred)\n",
        "    \n",
        "    # Measure this fold's accuracy\n",
        "    y_compare = np.argmax(y_test,axis=1) # For accuracy calculation\n",
        "    score = metrics.accuracy_score(y_compare, pred)\n",
        "    print(f\"Fold score (accuracy): {score}\")\n",
        "\n",
        "    # Measure this fold's BCE\n",
        "    from sklearn.metrics import confusion_matrix, classification_report\n",
        "    predict = model.predict(x_test, batch_size=BS)\n",
        "    predict = np.argmax(predict, axis=1)\n",
        "    print(classification_report(y_test.argmax(axis=1), predict, labels=labelb.classes_))\n",
        "\n",
        "    cm = confusion_matrix(y_test.argmax(axis=1), predict, labels=labelb.classes_)\n",
        "    np.set_printoptions(precision=2)\n",
        "    conf.append(cm)\n",
        "    # Plot non-normalized confusion matrix\n",
        "    plt.figure()\n",
        "    plot_confusion_matrix(cm)\n",
        "# Build the oos prediction list and calculate the error.\n",
        "oos_y = np.concatenate(oos_y)\n",
        "oos_pred = np.concatenate(oos_pred)\n",
        "oos_y_compare = np.argmax(oos_y,axis=1) # For accuracy calculation\n",
        "\n",
        "score = metrics.accuracy_score(oos_y_compare, oos_pred)\n",
        "print(f\"Final score (accuracy): {score}\") \n"
      ],
      "metadata": {
        "id": "JjFQ9RWVZsOA",
        "colab": {
          "base_uri": "https://localhost:8080/",
          "height": 1000
        },
        "outputId": "a5de42ff-aaa7-4e17-b704-99c18357ba58"
      },
      "execution_count": null,
      "outputs": [
        {
          "output_type": "stream",
          "name": "stdout",
          "text": [
            "Fold #1\n",
            "[INFO] compiling model...\n",
            "WARNING:tensorflow:From <ipython-input-6-e804b702eeb7>:52: Model.fit_generator (from tensorflow.python.keras.engine.training) is deprecated and will be removed in a future version.\n",
            "Instructions for updating:\n",
            "Please use Model.fit, which supports generators.\n",
            "Epoch 1/15\n",
            "19/19 [==============================] - 46s 2s/step - loss: 1.9883 - accuracy: 0.2258 - val_loss: 1.6405 - val_accuracy: 0.2408\n",
            "Epoch 2/15\n",
            "19/19 [==============================] - 46s 2s/step - loss: 1.7597 - accuracy: 0.2561 - val_loss: 1.5671 - val_accuracy: 0.3096\n",
            "Epoch 3/15\n",
            "19/19 [==============================] - 45s 2s/step - loss: 1.6674 - accuracy: 0.2907 - val_loss: 1.5195 - val_accuracy: 0.3391\n",
            "Epoch 4/15\n",
            "19/19 [==============================] - 47s 2s/step - loss: 1.6195 - accuracy: 0.3175 - val_loss: 1.4918 - val_accuracy: 0.3710\n",
            "Epoch 5/15\n",
            "19/19 [==============================] - 46s 2s/step - loss: 1.5371 - accuracy: 0.3261 - val_loss: 1.4529 - val_accuracy: 0.3907\n",
            "Epoch 6/15\n",
            "19/19 [==============================] - 46s 2s/step - loss: 1.5183 - accuracy: 0.3590 - val_loss: 1.4363 - val_accuracy: 0.4152\n",
            "Epoch 7/15\n",
            "19/19 [==============================] - 46s 2s/step - loss: 1.4900 - accuracy: 0.3642 - val_loss: 1.4228 - val_accuracy: 0.4447\n",
            "Epoch 8/15\n",
            "19/19 [==============================] - 46s 2s/step - loss: 1.4364 - accuracy: 0.3962 - val_loss: 1.4079 - val_accuracy: 0.4447\n",
            "Epoch 9/15\n",
            "19/19 [==============================] - 46s 2s/step - loss: 1.4087 - accuracy: 0.4265 - val_loss: 1.3924 - val_accuracy: 0.4496\n",
            "Epoch 10/15\n",
            "19/19 [==============================] - 46s 2s/step - loss: 1.4189 - accuracy: 0.4100 - val_loss: 1.3855 - val_accuracy: 0.4472\n",
            "Epoch 11/15\n",
            "19/19 [==============================] - 53s 3s/step - loss: 1.3890 - accuracy: 0.4317 - val_loss: 1.3738 - val_accuracy: 0.4644\n",
            "Epoch 12/15\n",
            "19/19 [==============================] - 48s 3s/step - loss: 1.3754 - accuracy: 0.4317 - val_loss: 1.3655 - val_accuracy: 0.4619\n",
            "Epoch 13/15\n",
            "19/19 [==============================] - 49s 3s/step - loss: 1.3704 - accuracy: 0.4291 - val_loss: 1.3546 - val_accuracy: 0.4521\n",
            "Epoch 14/15\n",
            "19/19 [==============================] - 49s 3s/step - loss: 1.3586 - accuracy: 0.4481 - val_loss: 1.3361 - val_accuracy: 0.4545\n",
            "Epoch 15/15\n",
            "19/19 [==============================] - 49s 3s/step - loss: 1.3344 - accuracy: 0.4524 - val_loss: 1.3334 - val_accuracy: 0.4717\n",
            "Fold score (accuracy): 0.47174447174447176\n",
            "              precision    recall  f1-score   support\n",
            "\n",
            "           0       0.48      0.69      0.56        80\n",
            "           1       0.62      0.21      0.32        71\n",
            "           2       0.54      0.55      0.54        82\n",
            "           3       0.48      0.31      0.37        94\n",
            "           4       0.39      0.60      0.47        80\n",
            "\n",
            "    accuracy                           0.47       407\n",
            "   macro avg       0.50      0.47      0.45       407\n",
            "weighted avg       0.50      0.47      0.45       407\n",
            "\n",
            "Fold #2\n",
            "[INFO] compiling model...\n",
            "Epoch 1/15\n",
            "19/19 [==============================] - 47s 2s/step - loss: 1.9767 - accuracy: 0.2327 - val_loss: 1.6327 - val_accuracy: 0.2678\n",
            "Epoch 2/15\n",
            "19/19 [==============================] - 47s 2s/step - loss: 1.7880 - accuracy: 0.2500 - val_loss: 1.5278 - val_accuracy: 0.3145\n",
            "Epoch 3/15\n",
            "19/19 [==============================] - 46s 2s/step - loss: 1.6315 - accuracy: 0.3114 - val_loss: 1.4762 - val_accuracy: 0.3489\n",
            "Epoch 4/15\n",
            "19/19 [==============================] - 46s 2s/step - loss: 1.5593 - accuracy: 0.3270 - val_loss: 1.4378 - val_accuracy: 0.3907\n",
            "Epoch 5/15\n",
            "19/19 [==============================] - 46s 2s/step - loss: 1.5328 - accuracy: 0.3460 - val_loss: 1.4186 - val_accuracy: 0.4324\n",
            "Epoch 6/15\n",
            "19/19 [==============================] - 46s 2s/step - loss: 1.4631 - accuracy: 0.3616 - val_loss: 1.4033 - val_accuracy: 0.4423\n",
            "Epoch 7/15\n",
            "19/19 [==============================] - 49s 3s/step - loss: 1.4646 - accuracy: 0.3711 - val_loss: 1.3856 - val_accuracy: 0.4570\n",
            "Epoch 8/15\n",
            "19/19 [==============================] - 47s 2s/step - loss: 1.4273 - accuracy: 0.3832 - val_loss: 1.3714 - val_accuracy: 0.4496\n",
            "Epoch 9/15\n",
            "19/19 [==============================] - 49s 3s/step - loss: 1.4208 - accuracy: 0.3919 - val_loss: 1.3573 - val_accuracy: 0.4767\n",
            "Epoch 10/15\n",
            "19/19 [==============================] - 47s 2s/step - loss: 1.3911 - accuracy: 0.4334 - val_loss: 1.3459 - val_accuracy: 0.4791\n",
            "Epoch 11/15\n",
            "19/19 [==============================] - 48s 3s/step - loss: 1.3828 - accuracy: 0.3979 - val_loss: 1.3373 - val_accuracy: 0.4742\n",
            "Epoch 12/15\n",
            "19/19 [==============================] - 47s 2s/step - loss: 1.3601 - accuracy: 0.4265 - val_loss: 1.3307 - val_accuracy: 0.4668\n",
            "Epoch 13/15\n",
            "19/19 [==============================] - 48s 3s/step - loss: 1.3478 - accuracy: 0.4317 - val_loss: 1.3216 - val_accuracy: 0.4914\n",
            "Epoch 14/15\n",
            "19/19 [==============================] - 48s 3s/step - loss: 1.3407 - accuracy: 0.4498 - val_loss: 1.3113 - val_accuracy: 0.4693\n",
            "Epoch 15/15\n",
            "19/19 [==============================] - 47s 2s/step - loss: 1.3177 - accuracy: 0.4507 - val_loss: 1.2999 - val_accuracy: 0.4865\n",
            "Fold score (accuracy): 0.4864864864864865\n",
            "              precision    recall  f1-score   support\n",
            "\n",
            "           0       0.52      0.63      0.57        90\n",
            "           1       0.44      0.18      0.26        65\n",
            "           2       0.56      0.49      0.52        77\n",
            "           3       0.34      0.38      0.36        85\n",
            "           4       0.55      0.66      0.60        90\n",
            "\n",
            "    accuracy                           0.49       407\n",
            "   macro avg       0.48      0.47      0.46       407\n",
            "weighted avg       0.48      0.49      0.47       407\n",
            "\n",
            "Fold #3\n",
            "[INFO] compiling model...\n",
            "Epoch 1/15\n",
            "19/19 [==============================] - 50s 3s/step - loss: 1.9696 - accuracy: 0.2292 - val_loss: 1.5415 - val_accuracy: 0.3342\n",
            "Epoch 2/15\n",
            "19/19 [==============================] - 49s 3s/step - loss: 1.7239 - accuracy: 0.2915 - val_loss: 1.4717 - val_accuracy: 0.3292\n",
            "Epoch 3/15\n",
            "19/19 [==============================] - 48s 3s/step - loss: 1.6139 - accuracy: 0.3503 - val_loss: 1.4303 - val_accuracy: 0.3980\n",
            "Epoch 4/15\n",
            "19/19 [==============================] - 51s 3s/step - loss: 1.5529 - accuracy: 0.3400 - val_loss: 1.4139 - val_accuracy: 0.4152\n",
            "Epoch 5/15\n",
            "19/19 [==============================] - 49s 3s/step - loss: 1.5096 - accuracy: 0.3521 - val_loss: 1.4014 - val_accuracy: 0.4201\n",
            "Epoch 6/15\n",
            "19/19 [==============================] - 50s 3s/step - loss: 1.4822 - accuracy: 0.3651 - val_loss: 1.3857 - val_accuracy: 0.4251\n",
            "Epoch 7/15\n",
            "19/19 [==============================] - 50s 3s/step - loss: 1.3956 - accuracy: 0.3997 - val_loss: 1.3748 - val_accuracy: 0.4423\n",
            "Epoch 8/15\n",
            "19/19 [==============================] - 49s 3s/step - loss: 1.4154 - accuracy: 0.3936 - val_loss: 1.3608 - val_accuracy: 0.4398\n",
            "Epoch 9/15\n",
            "19/19 [==============================] - 50s 3s/step - loss: 1.3921 - accuracy: 0.4152 - val_loss: 1.3546 - val_accuracy: 0.4668\n",
            "Epoch 10/15\n",
            "19/19 [==============================] - 50s 3s/step - loss: 1.3648 - accuracy: 0.4230 - val_loss: 1.3523 - val_accuracy: 0.4521\n",
            "Epoch 11/15\n",
            "19/19 [==============================] - 50s 3s/step - loss: 1.3648 - accuracy: 0.4247 - val_loss: 1.3387 - val_accuracy: 0.4619\n",
            "Epoch 12/15\n",
            "19/19 [==============================] - 50s 3s/step - loss: 1.3498 - accuracy: 0.4567 - val_loss: 1.3429 - val_accuracy: 0.4521\n",
            "Epoch 13/15\n",
            "19/19 [==============================] - 50s 3s/step - loss: 1.3273 - accuracy: 0.4576 - val_loss: 1.3249 - val_accuracy: 0.4570\n",
            "Epoch 14/15\n",
            "19/19 [==============================] - 50s 3s/step - loss: 1.3496 - accuracy: 0.4455 - val_loss: 1.3236 - val_accuracy: 0.4693\n",
            "Epoch 15/15\n",
            "19/19 [==============================] - 55s 3s/step - loss: 1.3275 - accuracy: 0.4556 - val_loss: 1.3195 - val_accuracy: 0.4840\n",
            "Fold score (accuracy): 0.48402948402948404\n",
            "              precision    recall  f1-score   support\n",
            "\n",
            "           0       0.51      0.71      0.59        66\n",
            "           1       0.44      0.18      0.26        77\n",
            "           2       0.60      0.62      0.61        81\n",
            "           3       0.41      0.49      0.45        91\n",
            "           4       0.46      0.45      0.45        92\n",
            "\n",
            "    accuracy                           0.48       407\n",
            "   macro avg       0.48      0.49      0.47       407\n",
            "weighted avg       0.48      0.48      0.47       407\n",
            "\n",
            "Fold #4\n",
            "[INFO] compiling model...\n",
            "Epoch 1/15\n",
            "19/19 [==============================] - 46s 2s/step - loss: 2.1500 - accuracy: 0.1884 - val_loss: 1.6891 - val_accuracy: 0.2488\n",
            "Epoch 2/15\n",
            "19/19 [==============================] - 45s 2s/step - loss: 1.8350 - accuracy: 0.2541 - val_loss: 1.6052 - val_accuracy: 0.2980\n",
            "Epoch 3/15\n",
            "19/19 [==============================] - 45s 2s/step - loss: 1.6591 - accuracy: 0.2826 - val_loss: 1.5340 - val_accuracy: 0.3030\n",
            "Epoch 4/15\n",
            "19/19 [==============================] - 46s 2s/step - loss: 1.5949 - accuracy: 0.3224 - val_loss: 1.4968 - val_accuracy: 0.3276\n",
            "Epoch 5/15\n",
            "19/19 [==============================] - 45s 2s/step - loss: 1.5485 - accuracy: 0.3241 - val_loss: 1.4680 - val_accuracy: 0.3695\n",
            "Epoch 6/15\n",
            "19/19 [==============================] - 46s 2s/step - loss: 1.4925 - accuracy: 0.3691 - val_loss: 1.4512 - val_accuracy: 0.3768\n",
            "Epoch 7/15\n",
            "19/19 [==============================] - 45s 2s/step - loss: 1.4605 - accuracy: 0.3907 - val_loss: 1.4351 - val_accuracy: 0.3966\n",
            "Epoch 8/15\n",
            "19/19 [==============================] - 46s 2s/step - loss: 1.4312 - accuracy: 0.3993 - val_loss: 1.4203 - val_accuracy: 0.4138\n",
            "Epoch 9/15\n",
            "19/19 [==============================] - 46s 2s/step - loss: 1.4106 - accuracy: 0.4097 - val_loss: 1.3992 - val_accuracy: 0.4163\n",
            "Epoch 10/15\n",
            "19/19 [==============================] - 46s 2s/step - loss: 1.3824 - accuracy: 0.4443 - val_loss: 1.3926 - val_accuracy: 0.4261\n",
            "Epoch 11/15\n",
            "19/19 [==============================] - 46s 2s/step - loss: 1.3975 - accuracy: 0.4114 - val_loss: 1.3901 - val_accuracy: 0.4360\n",
            "Epoch 12/15\n",
            "19/19 [==============================] - 49s 3s/step - loss: 1.3612 - accuracy: 0.4365 - val_loss: 1.3821 - val_accuracy: 0.4384\n",
            "Epoch 13/15\n",
            "19/19 [==============================] - 47s 2s/step - loss: 1.3385 - accuracy: 0.4598 - val_loss: 1.3824 - val_accuracy: 0.4310\n",
            "Epoch 14/15\n",
            "19/19 [==============================] - 48s 3s/step - loss: 1.3033 - accuracy: 0.4548 - val_loss: 1.3697 - val_accuracy: 0.4507\n",
            "Epoch 15/15\n",
            "19/19 [==============================] - 49s 3s/step - loss: 1.3233 - accuracy: 0.4507 - val_loss: 1.3716 - val_accuracy: 0.4433\n",
            "Fold score (accuracy): 0.4433497536945813\n",
            "              precision    recall  f1-score   support\n",
            "\n",
            "           0       0.58      0.50      0.54        84\n",
            "           1       0.39      0.17      0.24        75\n",
            "           2       0.48      0.45      0.46        69\n",
            "           3       0.36      0.42      0.39        97\n",
            "           4       0.43      0.65      0.52        81\n",
            "\n",
            "    accuracy                           0.44       406\n",
            "   macro avg       0.45      0.44      0.43       406\n",
            "weighted avg       0.45      0.44      0.43       406\n",
            "\n",
            "Final score (accuracy): 0.471419791026429\n"
          ]
        },
        {
          "output_type": "display_data",
          "data": {
            "text/plain": [
              "<Figure size 432x288 with 0 Axes>"
            ]
          },
          "metadata": {}
        },
        {
          "output_type": "display_data",
          "data": {
            "text/plain": [
              "<Figure size 432x288 with 1 Axes>"
            ],
            "image/png": "[encoded data removed]"
          },
          "metadata": {
            "needs_background": "light"
          }
        },
        {
          "output_type": "display_data",
          "data": {
            "text/plain": [
              "<Figure size 432x288 with 0 Axes>"
            ]
          },
          "metadata": {}
        },
        {
          "output_type": "display_data",
          "data": {
            "text/plain": [
              "<Figure size 432x288 with 1 Axes>"
            ],
            "image/png": "[encoded data removed]"
          },
          "metadata": {
            "needs_background": "light"
          }
        },
        {
          "output_type": "display_data",
          "data": {
            "text/plain": [
              "<Figure size 432x288 with 0 Axes>"
            ]
          },
          "metadata": {}
        },
        {
          "output_type": "display_data",
          "data": {
            "text/plain": [
              "<Figure size 432x288 with 1 Axes>"
            ],
            "image/png": "[encoded data removed]"
          },
          "metadata": {
            "needs_background": "light"
          }
        },
        {
          "output_type": "display_data",
          "data": {
            "text/plain": [
              "<Figure size 432x288 with 0 Axes>"
            ]
          },
          "metadata": {}
        },
        {
          "output_type": "display_data",
          "data": {
            "text/plain": [
              "<Figure size 432x288 with 1 Axes>"
            ],
            "image/png": "[encoded data removed]"
          },
          "metadata": {
            "needs_background": "light"
          }
        }
      ]
    },
    {
      "cell_type": "code",
      "source": [
        "print(\"The confusion matrix of the 10 fold values\")\n",
        "print(conf)\n",
        "confeyu= np.sum(conf, axis=0)\n",
        "print(\"The sum of the 10 fold values\")\n",
        "print(confeyu)\n",
        "confeyu1 = confeyu / 10.0\n",
        "np.set_printoptions(precision=2)\n",
        "print(\"The average of the above fold values\")\n",
        "print(confeyu1)\n",
        "eyu1 = confeyu1.astype(\"int\")\n",
        "plt.figure()\n",
        "leyu = [\"Porn\", \"Non_pron\"]\n",
        "print(\"The sum of the 10 fold values.\")\n",
        "plot_confusion_matrix(confeyu, leyu)\n",
        "print(\"The mean of the 10 fold values.\")\n",
        "plot_confusion_matrix(eyu1, leyu)"
      ],
      "metadata": {
        "id": "DKJFV_PzqjNr",
        "colab": {
          "base_uri": "https://localhost:8080/",
          "height": 1000
        },
        "outputId": "ecd9a6b1-4bf8-4565-8fe0-4c2fe918030e"
      },
      "execution_count": null,
      "outputs": [
        {
          "output_type": "stream",
          "name": "stdout",
          "text": [
            "The confusion matrix of the 10 fold values\n",
            "[array([[55,  2,  3,  5, 15],\n",
            "       [16, 15,  6,  8, 26],\n",
            "       [10,  1, 45, 12, 14],\n",
            "       [18,  4, 23, 29, 20],\n",
            "       [16,  2,  7,  7, 48]]), array([[57,  5,  4, 16,  8],\n",
            "       [14, 12,  7, 10, 22],\n",
            "       [ 9,  0, 38, 22,  8],\n",
            "       [17,  7, 18, 32, 11],\n",
            "       [13,  3,  1, 14, 59]]), array([[47,  2,  3, 10,  4],\n",
            "       [10, 14,  5, 17, 31],\n",
            "       [ 9,  4, 50, 14,  4],\n",
            "       [16,  2, 18, 45, 10],\n",
            "       [10, 10,  8, 23, 41]]), array([[42,  7,  3, 13, 19],\n",
            "       [ 6, 13,  7, 23, 26],\n",
            "       [ 3,  1, 31, 27,  7],\n",
            "       [13,  7, 19, 41, 17],\n",
            "       [ 8,  5,  5, 10, 53]])]\n",
            "The sum of the 10 fold values\n",
            "[[201  16  13  44  46]\n",
            " [ 46  54  25  58 105]\n",
            " [ 31   6 164  75  33]\n",
            " [ 64  20  78 147  58]\n",
            " [ 47  20  21  54 201]]\n",
            "The average of the above fold values\n",
            "[[20.1  1.6  1.3  4.4  4.6]\n",
            " [ 4.6  5.4  2.5  5.8 10.5]\n",
            " [ 3.1  0.6 16.4  7.5  3.3]\n",
            " [ 6.4  2.   7.8 14.7  5.8]\n",
            " [ 4.7  2.   2.1  5.4 20.1]]\n",
            "The sum of the 10 fold values.\n",
            "The mean of the 10 fold values.\n"
          ]
        },
        {
          "output_type": "execute_result",
          "data": {
            "text/plain": [
              "(<Figure size 432x288 with 1 Axes>,\n",
              " <matplotlib.axes._subplots.AxesSubplot at 0x7f60a4735650>)"
            ]
          },
          "metadata": {},
          "execution_count": 7
        },
        {
          "output_type": "display_data",
          "data": {
            "text/plain": [
              "<Figure size 432x288 with 0 Axes>"
            ]
          },
          "metadata": {}
        },
        {
          "output_type": "display_data",
          "data": {
            "text/plain": [
              "<Figure size 432x288 with 1 Axes>"
            ],
            "image/png": "[encoded data removed]"
          },
          "metadata": {
            "needs_background": "light"
          }
        },
        {
          "output_type": "display_data",
          "data": {
            "text/plain": [
              "<Figure size 432x288 with 1 Axes>"
            ],
            "image/png": "[encoded data removed]"
          },
          "metadata": {
            "needs_background": "light"
          }
        }
      ]
    },
    {
      "cell_type": "code",
      "source": [
        ""
      ],
      "metadata": {
        "id": "ET3svkwMZsQx"
      },
      "execution_count": null,
      "outputs": []
    },
    {
      "cell_type": "code",
      "source": [
        ""
      ],
      "metadata": {
        "id": "xkGo4KpDZsUF"
      },
      "execution_count": null,
      "outputs": []
    },
    {
      "cell_type": "code",
      "source": [
        ""
      ],
      "metadata": {
        "id": "fQRDmlUaZsrB"
      },
      "execution_count": null,
      "outputs": []
    }
  ]
}